{
 "cells": [
  {
   "cell_type": "code",
   "execution_count": 1,
   "metadata": {},
   "outputs": [],
   "source": [
    "import numpy as np\n",
    "import pandas as pd\n",
    "import matplotlib.pyplot as plt"
   ]
  },
  {
   "cell_type": "code",
   "execution_count": 2,
   "metadata": {},
   "outputs": [
    {
     "data": {
      "text/html": [
       "<div>\n",
       "<style scoped>\n",
       "    .dataframe tbody tr th:only-of-type {\n",
       "        vertical-align: middle;\n",
       "    }\n",
       "\n",
       "    .dataframe tbody tr th {\n",
       "        vertical-align: top;\n",
       "    }\n",
       "\n",
       "    .dataframe thead th {\n",
       "        text-align: right;\n",
       "    }\n",
       "</style>\n",
       "<table border=\"1\" class=\"dataframe\">\n",
       "  <thead>\n",
       "    <tr style=\"text-align: right;\">\n",
       "      <th></th>\n",
       "      <th>AT</th>\n",
       "      <th>V</th>\n",
       "      <th>AP</th>\n",
       "      <th>RH</th>\n",
       "      <th>PE</th>\n",
       "    </tr>\n",
       "  </thead>\n",
       "  <tbody>\n",
       "    <tr>\n",
       "      <th>0</th>\n",
       "      <td>14.96</td>\n",
       "      <td>41.76</td>\n",
       "      <td>1024.07</td>\n",
       "      <td>73.17</td>\n",
       "      <td>463.26</td>\n",
       "    </tr>\n",
       "    <tr>\n",
       "      <th>1</th>\n",
       "      <td>25.18</td>\n",
       "      <td>62.96</td>\n",
       "      <td>1020.04</td>\n",
       "      <td>59.08</td>\n",
       "      <td>444.37</td>\n",
       "    </tr>\n",
       "    <tr>\n",
       "      <th>2</th>\n",
       "      <td>5.11</td>\n",
       "      <td>39.40</td>\n",
       "      <td>1012.16</td>\n",
       "      <td>92.14</td>\n",
       "      <td>488.56</td>\n",
       "    </tr>\n",
       "    <tr>\n",
       "      <th>3</th>\n",
       "      <td>20.86</td>\n",
       "      <td>57.32</td>\n",
       "      <td>1010.24</td>\n",
       "      <td>76.64</td>\n",
       "      <td>446.48</td>\n",
       "    </tr>\n",
       "    <tr>\n",
       "      <th>4</th>\n",
       "      <td>10.82</td>\n",
       "      <td>37.50</td>\n",
       "      <td>1009.23</td>\n",
       "      <td>96.62</td>\n",
       "      <td>473.90</td>\n",
       "    </tr>\n",
       "  </tbody>\n",
       "</table>\n",
       "</div>"
      ],
      "text/plain": [
       "      AT      V       AP     RH      PE\n",
       "0  14.96  41.76  1024.07  73.17  463.26\n",
       "1  25.18  62.96  1020.04  59.08  444.37\n",
       "2   5.11  39.40  1012.16  92.14  488.56\n",
       "3  20.86  57.32  1010.24  76.64  446.48\n",
       "4  10.82  37.50  1009.23  96.62  473.90"
      ]
     },
     "execution_count": 2,
     "metadata": {},
     "output_type": "execute_result"
    }
   ],
   "source": [
    "df = pd.read_csv('Data.csv')\n",
    "x = df.iloc[:, :-1].values\n",
    "y = df.iloc[:, -1].values\n",
    "df.head()"
   ]
  },
  {
   "cell_type": "code",
   "execution_count": 3,
   "metadata": {},
   "outputs": [],
   "source": [
    "from sklearn.model_selection import train_test_split\n",
    "xtrain, xtest, ytrain, ytest = train_test_split(x,y, test_size=0.2, random_state=0)"
   ]
  },
  {
   "cell_type": "code",
   "execution_count": 4,
   "metadata": {},
   "outputs": [],
   "source": [
    "from sklearn.preprocessing import PolynomialFeatures\n",
    "polyreg = PolynomialFeatures(degree = 6)\n",
    "xpoly = polyreg.fit_transform(xtrain)"
   ]
  },
  {
   "cell_type": "markdown",
   "metadata": {},
   "source": [
    "#### Importing the various models"
   ]
  },
  {
   "cell_type": "code",
   "execution_count": 5,
   "metadata": {},
   "outputs": [],
   "source": [
    "from sklearn.linear_model import LinearRegression\n",
    "from sklearn.tree import DecisionTreeRegressor\n",
    "from sklearn.ensemble import RandomForestRegressor\n",
    "from sklearn.svm import SVR\n",
    "from sklearn.preprocessing import StandardScaler\n",
    "from sklearn.metrics import mean_squared_error\n",
    "from sklearn.metrics import r2_score"
   ]
  },
  {
   "cell_type": "code",
   "execution_count": 6,
   "metadata": {},
   "outputs": [],
   "source": [
    "models = [['Linear Regression: ', LinearRegression()],\n",
    "          ['Polynomial Regression: ', LinearRegression()],\n",
    "          ['Decision Tree Regression: ',  DecisionTreeRegressor(random_state=0)],\n",
    "          ['Random Forest Regression: ', RandomForestRegressor(random_state=0)],\n",
    "          ['SVR: ', SVR()]]"
   ]
  },
  {
   "cell_type": "markdown",
   "metadata": {},
   "source": [
    "#### Printing the results"
   ]
  },
  {
   "cell_type": "code",
   "execution_count": 7,
   "metadata": {},
   "outputs": [
    {
     "name": "stdout",
     "output_type": "stream",
     "text": [
      "Results (Mean Squared Error)\n",
      "Linear Regression:  4.44226285844249\n",
      "Polynomial Regression:  3.975992634436965\n",
      "Decision Tree Regression:  4.757719553531109\n",
      "Random Forest Regression:  3.197656038961311\n"
     ]
    },
    {
     "name": "stderr",
     "output_type": "stream",
     "text": [
      "C:\\Users\\Nilesh\\anaconda3\\lib\\site-packages\\sklearn\\utils\\validation.py:760: DataConversionWarning: A column-vector y was passed when a 1d array was expected. Please change the shape of y to (n_samples, ), for example using ravel().\n",
      "  y = column_or_1d(y, warn=True)\n"
     ]
    },
    {
     "name": "stdout",
     "output_type": "stream",
     "text": [
      "SVR:  3.8969776670879237\n"
     ]
    }
   ],
   "source": [
    "print('Results (Mean Squared Error)')\n",
    "for name, model in models:\n",
    "    if name == 'Polynomial Regression: ':\n",
    "        model.fit(xpoly,ytrain)\n",
    "        prediction = model.predict(polyreg.transform(xtest))\n",
    "        print(name, (np.sqrt(mean_squared_error(ytest, prediction))))\n",
    "        continue\n",
    "        \n",
    "    elif name == 'SVR: ':\n",
    "        sc_x = StandardScaler()\n",
    "        sc_y = StandardScaler()\n",
    "        xsvr_train = sc_x.fit_transform(xtrain)\n",
    "        ysvr_train = sc_y.fit_transform(ytrain[:, np.newaxis])\n",
    "        model = model\n",
    "        model.fit(xsvr_train, ysvr_train)\n",
    "        prediction = sc_y.inverse_transform(model.predict(sc_x.transform(xtest)))\n",
    "        print(name, (np.sqrt(mean_squared_error(ytest, prediction))))\n",
    "        continue\n",
    "        \n",
    "    else:\n",
    "        model = model\n",
    "        model.fit(xtrain,ytrain)\n",
    "        prediction = model.predict(xtest)\n",
    "        print(name, (np.sqrt(mean_squared_error(ytest, prediction))))"
   ]
  },
  {
   "cell_type": "code",
   "execution_count": null,
   "metadata": {},
   "outputs": [
    {
     "name": "stdout",
     "output_type": "stream",
     "text": [
      "Results (r2 score)\n",
      "Linear Regression:  0.9325315554761303\n",
      "Polynomial Regression:  0.9459515387983733\n",
      "Decision Tree Regression:  0.9226091050550043\n",
      "Random Forest Regression:  0.9650412670122027\n"
     ]
    },
    {
     "name": "stderr",
     "output_type": "stream",
     "text": [
      "C:\\Users\\Nilesh\\anaconda3\\lib\\site-packages\\sklearn\\utils\\validation.py:760: DataConversionWarning: A column-vector y was passed when a 1d array was expected. Please change the shape of y to (n_samples, ), for example using ravel().\n",
      "  y = column_or_1d(y, warn=True)\n"
     ]
    }
   ],
   "source": [
    "print('Results (r2 score)')\n",
    "for name, model in models:\n",
    "    if name == 'Polynomial Regression: ':\n",
    "        model.fit(xpoly,ytrain)\n",
    "        prediction = model.predict(polyreg.transform(xtest))\n",
    "        print(name, (r2_score(ytest, prediction)))\n",
    "        continue\n",
    "        \n",
    "    elif name == 'SVR: ':\n",
    "        sc_x = StandardScaler()\n",
    "        sc_y = StandardScaler()\n",
    "        xsvr_train = sc_x.fit_transform(xtrain)\n",
    "        ysvr_train = sc_y.fit_transform(ytrain[:, np.newaxis])\n",
    "        model = model\n",
    "        model.fit(xsvr_train, ysvr_train)\n",
    "        prediction = sc_y.inverse_transform(model.predict(sc_x.transform(xtest)))\n",
    "        print(name, (r2_score(ytest, prediction)))\n",
    "        continue\n",
    "        \n",
    "    else:\n",
    "        model = model\n",
    "        model.fit(xtrain,ytrain)\n",
    "        prediction = model.predict(xtest)\n",
    "        print(name, (r2_score(ytest, prediction)))"
   ]
  },
  {
   "cell_type": "code",
   "execution_count": null,
   "metadata": {},
   "outputs": [],
   "source": []
  }
 ],
 "metadata": {
  "kernelspec": {
   "display_name": "Python 3",
   "language": "python",
   "name": "python3"
  },
  "language_info": {
   "codemirror_mode": {
    "name": "ipython",
    "version": 3
   },
   "file_extension": ".py",
   "mimetype": "text/x-python",
   "name": "python",
   "nbconvert_exporter": "python",
   "pygments_lexer": "ipython3",
   "version": "3.7.6"
  }
 },
 "nbformat": 4,
 "nbformat_minor": 4
}
