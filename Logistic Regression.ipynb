{
 "cells": [
  {
   "cell_type": "code",
   "execution_count": 1,
   "metadata": {},
   "outputs": [],
   "source": [
    "import numpy as np\n",
    "import matplotlib.pyplot as plt\n",
    "import pandas as pd"
   ]
  },
  {
   "cell_type": "code",
   "execution_count": 2,
   "metadata": {
    "scrolled": true
   },
   "outputs": [
    {
     "data": {
      "text/html": [
       "<div>\n",
       "<style scoped>\n",
       "    .dataframe tbody tr th:only-of-type {\n",
       "        vertical-align: middle;\n",
       "    }\n",
       "\n",
       "    .dataframe tbody tr th {\n",
       "        vertical-align: top;\n",
       "    }\n",
       "\n",
       "    .dataframe thead th {\n",
       "        text-align: right;\n",
       "    }\n",
       "</style>\n",
       "<table border=\"1\" class=\"dataframe\">\n",
       "  <thead>\n",
       "    <tr style=\"text-align: right;\">\n",
       "      <th></th>\n",
       "      <th>User ID</th>\n",
       "      <th>Gender</th>\n",
       "      <th>Age</th>\n",
       "      <th>EstimatedSalary</th>\n",
       "      <th>Purchased</th>\n",
       "    </tr>\n",
       "  </thead>\n",
       "  <tbody>\n",
       "    <tr>\n",
       "      <th>0</th>\n",
       "      <td>15624510</td>\n",
       "      <td>Male</td>\n",
       "      <td>19</td>\n",
       "      <td>19000</td>\n",
       "      <td>0</td>\n",
       "    </tr>\n",
       "    <tr>\n",
       "      <th>1</th>\n",
       "      <td>15810944</td>\n",
       "      <td>Male</td>\n",
       "      <td>35</td>\n",
       "      <td>20000</td>\n",
       "      <td>0</td>\n",
       "    </tr>\n",
       "    <tr>\n",
       "      <th>2</th>\n",
       "      <td>15668575</td>\n",
       "      <td>Female</td>\n",
       "      <td>26</td>\n",
       "      <td>43000</td>\n",
       "      <td>0</td>\n",
       "    </tr>\n",
       "  </tbody>\n",
       "</table>\n",
       "</div>"
      ],
      "text/plain": [
       "    User ID  Gender  Age  EstimatedSalary  Purchased\n",
       "0  15624510    Male   19            19000          0\n",
       "1  15810944    Male   35            20000          0\n",
       "2  15668575  Female   26            43000          0"
      ]
     },
     "execution_count": 2,
     "metadata": {},
     "output_type": "execute_result"
    }
   ],
   "source": [
    "df = pd.read_csv('Social_Network_Ads.csv')\n",
    "x =df.iloc[:, [2,3]].values\n",
    "y =df.iloc[:, -1].values\n",
    "df.head(3)"
   ]
  },
  {
   "cell_type": "code",
   "execution_count": 3,
   "metadata": {},
   "outputs": [],
   "source": [
    "from sklearn.preprocessing import StandardScaler\n",
    "from sklearn.compose import ColumnTransformer\n",
    "from sklearn.preprocessing import OneHotEncoder\n",
    "from sklearn.model_selection import train_test_split"
   ]
  },
  {
   "cell_type": "code",
   "execution_count": 4,
   "metadata": {},
   "outputs": [],
   "source": [
    "# ct = ColumnTransformer(transformers=[('encoder', OneHotEncoder(), [0])], remainder='passthrough')\n",
    "# x = np.array(ct.fit_transform(x))"
   ]
  },
  {
   "cell_type": "code",
   "execution_count": 5,
   "metadata": {},
   "outputs": [],
   "source": [
    "xtrain, xtest, ytrain, ytest = train_test_split(x,y, test_size=0.2, random_state=0)"
   ]
  },
  {
   "cell_type": "code",
   "execution_count": 6,
   "metadata": {},
   "outputs": [
    {
     "data": {
      "text/plain": [
       "(array([[    58, 144000],\n",
       "        [    59,  83000],\n",
       "        [    24,  55000],\n",
       "        [    26,  35000],\n",
       "        [    58,  38000],\n",
       "        [    42,  80000],\n",
       "        [    40,  75000],\n",
       "        [    59, 130000],\n",
       "        [    46,  41000],\n",
       "        [    41,  60000],\n",
       "        [    42,  64000],\n",
       "        [    37, 146000],\n",
       "        [    23,  48000],\n",
       "        [    25,  33000],\n",
       "        [    24,  84000],\n",
       "        [    27,  96000],\n",
       "        [    23,  63000],\n",
       "        [    48,  33000],\n",
       "        [    48,  90000],\n",
       "        [    42, 104000],\n",
       "        [    44,  39000],\n",
       "        [    32, 120000],\n",
       "        [    38,  50000],\n",
       "        [    32, 135000],\n",
       "        [    52,  21000],\n",
       "        [    53, 104000],\n",
       "        [    39,  42000],\n",
       "        [    38,  61000],\n",
       "        [    36,  50000],\n",
       "        [    36,  63000],\n",
       "        [    35,  25000],\n",
       "        [    35,  50000],\n",
       "        [    42,  73000],\n",
       "        [    47,  49000],\n",
       "        [    59,  29000],\n",
       "        [    49,  65000],\n",
       "        [    45, 131000],\n",
       "        [    31,  89000],\n",
       "        [    46,  82000],\n",
       "        [    47,  51000],\n",
       "        [    26,  15000],\n",
       "        [    60, 102000],\n",
       "        [    38, 112000],\n",
       "        [    40, 107000],\n",
       "        [    42,  53000],\n",
       "        [    35,  59000],\n",
       "        [    48,  41000],\n",
       "        [    48, 134000],\n",
       "        [    38, 113000],\n",
       "        [    29, 148000],\n",
       "        [    26,  15000],\n",
       "        [    60,  42000],\n",
       "        [    24,  19000],\n",
       "        [    42, 149000],\n",
       "        [    46,  96000],\n",
       "        [    28,  59000],\n",
       "        [    39,  96000],\n",
       "        [    28,  89000],\n",
       "        [    41,  72000],\n",
       "        [    45,  26000],\n",
       "        [    33,  69000],\n",
       "        [    20,  82000],\n",
       "        [    31,  74000],\n",
       "        [    42,  80000],\n",
       "        [    35,  72000],\n",
       "        [    33, 149000],\n",
       "        [    40,  71000],\n",
       "        [    51, 146000],\n",
       "        [    46,  79000],\n",
       "        [    35,  75000],\n",
       "        [    38,  51000],\n",
       "        [    36,  75000],\n",
       "        [    37,  78000],\n",
       "        [    38,  61000],\n",
       "        [    60, 108000],\n",
       "        [    20,  82000],\n",
       "        [    57,  74000],\n",
       "        [    42,  65000],\n",
       "        [    26,  80000],\n",
       "        [    46, 117000],\n",
       "        [    35,  61000],\n",
       "        [    21,  68000],\n",
       "        [    28,  44000],\n",
       "        [    41,  87000],\n",
       "        [    37,  33000],\n",
       "        [    27,  90000],\n",
       "        [    39,  42000],\n",
       "        [    28, 123000],\n",
       "        [    31, 118000],\n",
       "        [    25,  87000],\n",
       "        [    35,  71000],\n",
       "        [    37,  70000],\n",
       "        [    35,  39000],\n",
       "        [    47,  23000],\n",
       "        [    35, 147000],\n",
       "        [    48, 138000],\n",
       "        [    26,  86000],\n",
       "        [    25,  79000],\n",
       "        [    52, 138000],\n",
       "        [    51,  23000],\n",
       "        [    35,  60000],\n",
       "        [    33, 113000],\n",
       "        [    30, 107000],\n",
       "        [    48,  33000],\n",
       "        [    41,  80000],\n",
       "        [    48,  96000],\n",
       "        [    31,  18000],\n",
       "        [    31,  71000],\n",
       "        [    43, 129000],\n",
       "        [    59,  76000],\n",
       "        [    18,  44000],\n",
       "        [    36, 118000],\n",
       "        [    42,  90000],\n",
       "        [    47,  30000],\n",
       "        [    26,  43000],\n",
       "        [    40,  78000],\n",
       "        [    46,  59000],\n",
       "        [    59,  42000],\n",
       "        [    46,  74000],\n",
       "        [    35,  91000],\n",
       "        [    28,  59000],\n",
       "        [    40,  57000],\n",
       "        [    59, 143000],\n",
       "        [    57,  26000],\n",
       "        [    52,  38000],\n",
       "        [    47, 113000],\n",
       "        [    53, 143000],\n",
       "        [    35,  27000],\n",
       "        [    58, 101000],\n",
       "        [    45,  45000],\n",
       "        [    23,  82000],\n",
       "        [    46,  23000],\n",
       "        [    42,  65000],\n",
       "        [    28,  84000],\n",
       "        [    38,  59000],\n",
       "        [    26,  84000],\n",
       "        [    29,  28000],\n",
       "        [    37,  71000],\n",
       "        [    22,  55000],\n",
       "        [    48,  35000],\n",
       "        [    49,  28000],\n",
       "        [    38,  65000],\n",
       "        [    27,  17000],\n",
       "        [    46,  28000],\n",
       "        [    48, 141000],\n",
       "        [    26,  17000],\n",
       "        [    35,  97000],\n",
       "        [    39,  59000],\n",
       "        [    24,  27000],\n",
       "        [    32,  18000],\n",
       "        [    46,  88000],\n",
       "        [    35,  58000],\n",
       "        [    56,  60000],\n",
       "        [    47,  34000],\n",
       "        [    40,  72000],\n",
       "        [    32, 100000],\n",
       "        [    19,  21000],\n",
       "        [    25,  90000],\n",
       "        [    35,  88000],\n",
       "        [    28,  32000],\n",
       "        [    50,  20000],\n",
       "        [    40,  59000],\n",
       "        [    50,  44000],\n",
       "        [    35,  72000],\n",
       "        [    40, 142000],\n",
       "        [    46,  32000],\n",
       "        [    39,  71000],\n",
       "        [    20,  74000],\n",
       "        [    29,  75000],\n",
       "        [    31,  76000],\n",
       "        [    47,  25000],\n",
       "        [    40,  61000],\n",
       "        [    34, 112000],\n",
       "        [    38,  80000],\n",
       "        [    42,  75000],\n",
       "        [    47,  47000],\n",
       "        [    39,  75000],\n",
       "        [    19,  25000],\n",
       "        [    37,  80000],\n",
       "        [    36,  60000],\n",
       "        [    41,  52000],\n",
       "        [    36, 125000],\n",
       "        [    48,  29000],\n",
       "        [    36, 126000],\n",
       "        [    51, 134000],\n",
       "        [    27,  57000],\n",
       "        [    38,  71000],\n",
       "        [    39,  61000],\n",
       "        [    22,  27000],\n",
       "        [    33,  60000],\n",
       "        [    48,  74000],\n",
       "        [    58,  23000],\n",
       "        [    53,  72000],\n",
       "        [    32, 117000],\n",
       "        [    54,  70000],\n",
       "        [    30,  80000],\n",
       "        [    58,  95000],\n",
       "        [    26,  52000],\n",
       "        [    45,  79000],\n",
       "        [    24,  55000],\n",
       "        [    40,  75000],\n",
       "        [    33,  28000],\n",
       "        [    44, 139000],\n",
       "        [    22,  18000],\n",
       "        [    33,  51000],\n",
       "        [    43, 133000],\n",
       "        [    24,  32000],\n",
       "        [    46,  22000],\n",
       "        [    35,  55000],\n",
       "        [    54, 104000],\n",
       "        [    48, 119000],\n",
       "        [    35,  53000],\n",
       "        [    37, 144000],\n",
       "        [    23,  66000],\n",
       "        [    37, 137000],\n",
       "        [    31,  58000],\n",
       "        [    33,  41000],\n",
       "        [    45,  22000],\n",
       "        [    30,  15000],\n",
       "        [    19,  19000],\n",
       "        [    49,  74000],\n",
       "        [    39, 122000],\n",
       "        [    35,  73000],\n",
       "        [    39,  71000],\n",
       "        [    24,  23000],\n",
       "        [    41,  72000],\n",
       "        [    29,  83000],\n",
       "        [    54,  26000],\n",
       "        [    35,  44000],\n",
       "        [    37,  75000],\n",
       "        [    29,  47000],\n",
       "        [    31,  68000],\n",
       "        [    42,  54000],\n",
       "        [    30, 135000],\n",
       "        [    52, 114000],\n",
       "        [    50,  36000],\n",
       "        [    56, 133000],\n",
       "        [    29,  61000],\n",
       "        [    30,  89000],\n",
       "        [    26,  16000],\n",
       "        [    33,  31000],\n",
       "        [    41,  72000],\n",
       "        [    36,  33000],\n",
       "        [    55, 125000],\n",
       "        [    48, 131000],\n",
       "        [    41,  71000],\n",
       "        [    30,  62000],\n",
       "        [    37,  72000],\n",
       "        [    41,  63000],\n",
       "        [    58,  47000],\n",
       "        [    30, 116000],\n",
       "        [    20,  49000],\n",
       "        [    37,  74000],\n",
       "        [    41,  59000],\n",
       "        [    49,  89000],\n",
       "        [    28,  79000],\n",
       "        [    53,  82000],\n",
       "        [    40,  57000],\n",
       "        [    60,  34000],\n",
       "        [    35, 108000],\n",
       "        [    21,  72000],\n",
       "        [    38,  71000],\n",
       "        [    39, 106000],\n",
       "        [    37,  57000],\n",
       "        [    26,  72000],\n",
       "        [    35,  23000],\n",
       "        [    54, 108000],\n",
       "        [    30,  17000],\n",
       "        [    39, 134000],\n",
       "        [    29,  43000],\n",
       "        [    33,  43000],\n",
       "        [    35,  38000],\n",
       "        [    41,  45000],\n",
       "        [    41,  72000],\n",
       "        [    39, 134000],\n",
       "        [    27, 137000],\n",
       "        [    21,  16000],\n",
       "        [    26,  32000],\n",
       "        [    31,  66000],\n",
       "        [    39,  73000],\n",
       "        [    41,  79000],\n",
       "        [    47,  50000],\n",
       "        [    41,  30000],\n",
       "        [    37,  93000],\n",
       "        [    60,  46000],\n",
       "        [    25,  22000],\n",
       "        [    28,  37000],\n",
       "        [    38,  55000],\n",
       "        [    36,  54000],\n",
       "        [    20,  36000],\n",
       "        [    56, 104000],\n",
       "        [    40,  57000],\n",
       "        [    42, 108000],\n",
       "        [    20,  23000],\n",
       "        [    40,  65000],\n",
       "        [    47,  20000],\n",
       "        [    18,  86000],\n",
       "        [    35,  79000],\n",
       "        [    57,  33000],\n",
       "        [    34,  72000],\n",
       "        [    49,  39000],\n",
       "        [    27,  31000],\n",
       "        [    19,  70000],\n",
       "        [    39,  79000],\n",
       "        [    26,  81000],\n",
       "        [    25,  80000],\n",
       "        [    28,  85000],\n",
       "        [    55,  39000],\n",
       "        [    50,  88000],\n",
       "        [    49,  88000],\n",
       "        [    52, 150000],\n",
       "        [    35,  65000],\n",
       "        [    42,  54000],\n",
       "        [    34,  43000],\n",
       "        [    37,  52000],\n",
       "        [    48,  30000],\n",
       "        [    29,  43000],\n",
       "        [    36,  52000],\n",
       "        [    27,  54000],\n",
       "        [    26, 118000]], dtype=int64),\n",
       " array([1, 0, 0, 0, 1, 1, 0, 1, 1, 0, 0, 1, 0, 0, 0, 1, 0, 1, 1, 1, 0, 1,\n",
       "        0, 1, 1, 1, 0, 0, 0, 0, 0, 0, 1, 1, 1, 0, 1, 0, 0, 1, 0, 1, 0, 1,\n",
       "        0, 0, 1, 1, 1, 1, 0, 1, 0, 1, 0, 0, 1, 0, 0, 1, 0, 0, 0, 0, 0, 1,\n",
       "        1, 1, 1, 0, 0, 0, 1, 0, 1, 0, 1, 0, 0, 1, 0, 0, 0, 1, 0, 0, 0, 1,\n",
       "        1, 0, 0, 1, 0, 1, 1, 1, 0, 0, 1, 1, 0, 0, 1, 1, 0, 1, 0, 0, 1, 1,\n",
       "        0, 1, 1, 1, 0, 0, 0, 0, 0, 1, 0, 0, 1, 1, 1, 1, 1, 0, 1, 1, 0, 1,\n",
       "        0, 0, 0, 0, 0, 0, 0, 1, 1, 0, 0, 1, 0, 0, 1, 0, 0, 0, 1, 0, 1, 1,\n",
       "        0, 1, 0, 0, 0, 0, 1, 0, 0, 0, 1, 1, 0, 0, 0, 0, 1, 0, 1, 0, 0, 0,\n",
       "        1, 0, 0, 0, 0, 1, 1, 1, 0, 0, 0, 0, 0, 0, 1, 1, 1, 1, 1, 0, 1, 0,\n",
       "        0, 0, 0, 0, 1, 0, 0, 0, 0, 0, 0, 1, 1, 0, 1, 0, 1, 0, 0, 1, 0, 0,\n",
       "        0, 1, 0, 0, 0, 0, 0, 1, 0, 0, 0, 0, 0, 1, 0, 1, 1, 0, 0, 0, 0, 0,\n",
       "        0, 1, 1, 0, 0, 0, 0, 1, 0, 0, 0, 0, 1, 0, 1, 0, 1, 0, 0, 0, 1, 0,\n",
       "        0, 0, 1, 0, 1, 0, 0, 0, 0, 0, 1, 1, 0, 0, 0, 0, 0, 1, 0, 1, 1, 0,\n",
       "        0, 0, 0, 0, 1, 0, 1, 0, 0, 1, 0, 0, 1, 0, 1, 0, 0, 0, 0, 0, 0, 1,\n",
       "        1, 1, 1, 0, 0, 0, 0, 1, 0, 0, 0, 0], dtype=int64))"
      ]
     },
     "execution_count": 6,
     "metadata": {},
     "output_type": "execute_result"
    }
   ],
   "source": [
    "xtrain, ytrain"
   ]
  },
  {
   "cell_type": "code",
   "execution_count": 7,
   "metadata": {},
   "outputs": [],
   "source": [
    "sc = StandardScaler()\n",
    "xtrain = sc.fit_transform(xtrain)\n",
    "xtest = sc.fit_transform(xtest)"
   ]
  },
  {
   "cell_type": "code",
   "execution_count": 8,
   "metadata": {},
   "outputs": [
    {
     "data": {
      "text/plain": [
       "(array([[-0.77184498, -1.52502632],\n",
       "        [-0.40429975, -1.68064126],\n",
       "        [ 0.05513178,  2.33422397],\n",
       "        [-1.59882175, -0.03112299],\n",
       "        [ 1.06588117, -0.80919764]]),\n",
       " array([0, 0, 1, 0, 0], dtype=int64))"
      ]
     },
     "execution_count": 8,
     "metadata": {},
     "output_type": "execute_result"
    }
   ],
   "source": [
    "xtest[5:10], ytest[5:10]"
   ]
  },
  {
   "cell_type": "code",
   "execution_count": null,
   "metadata": {},
   "outputs": [],
   "source": []
  },
  {
   "cell_type": "code",
   "execution_count": 9,
   "metadata": {},
   "outputs": [
    {
     "data": {
      "text/plain": [
       "LogisticRegression(C=1.0, class_weight=None, dual=False, fit_intercept=True,\n",
       "                   intercept_scaling=1, l1_ratio=None, max_iter=100,\n",
       "                   multi_class='auto', n_jobs=None, penalty='l2',\n",
       "                   random_state=0, solver='lbfgs', tol=0.0001, verbose=0,\n",
       "                   warm_start=False)"
      ]
     },
     "execution_count": 9,
     "metadata": {},
     "output_type": "execute_result"
    }
   ],
   "source": [
    "from sklearn.linear_model import LogisticRegression\n",
    "clf = LogisticRegression(random_state=0)\n",
    "clf.fit(xtrain, ytrain)"
   ]
  },
  {
   "cell_type": "code",
   "execution_count": 10,
   "metadata": {},
   "outputs": [
    {
     "name": "stdout",
     "output_type": "stream",
     "text": [
      "[0]\n"
     ]
    }
   ],
   "source": [
    "print(clf.predict([[-0.7718449849879597, -1.52502632475557]]))"
   ]
  },
  {
   "cell_type": "code",
   "execution_count": 11,
   "metadata": {},
   "outputs": [
    {
     "name": "stdout",
     "output_type": "stream",
     "text": [
      "[[0 0]\n",
      " [0 0]\n",
      " [0 0]\n",
      " [0 0]\n",
      " [0 0]\n",
      " [0 0]\n",
      " [0 0]\n",
      " [1 1]\n",
      " [0 0]\n",
      " [1 0]]\n"
     ]
    }
   ],
   "source": [
    "ypred = clf.predict(xtest)\n",
    "print(np.concatenate((ypred.reshape(len(xtest),1), ytest.reshape(len(ytest),1)), 1)[:10])"
   ]
  },
  {
   "cell_type": "markdown",
   "metadata": {},
   "source": [
    "### Confusion Matrix"
   ]
  },
  {
   "cell_type": "code",
   "execution_count": 12,
   "metadata": {},
   "outputs": [
    {
     "data": {
      "text/plain": [
       "array([[52,  6],\n",
       "       [ 3, 19]], dtype=int64)"
      ]
     },
     "execution_count": 12,
     "metadata": {},
     "output_type": "execute_result"
    }
   ],
   "source": [
    "from sklearn.metrics import confusion_matrix, accuracy_score\n",
    "confusion_matrix(ytest,ypred)"
   ]
  },
  {
   "cell_type": "code",
   "execution_count": 13,
   "metadata": {},
   "outputs": [
    {
     "data": {
      "text/plain": [
       "0.8875"
      ]
     },
     "execution_count": 13,
     "metadata": {},
     "output_type": "execute_result"
    }
   ],
   "source": [
    "accuracy_score(ypred, ytest)"
   ]
  },
  {
   "cell_type": "markdown",
   "metadata": {},
   "source": [
    "### Visualising the result (based on two var only)"
   ]
  },
  {
   "cell_type": "code",
   "execution_count": 15,
   "metadata": {},
   "outputs": [
    {
     "name": "stderr",
     "output_type": "stream",
     "text": [
      "'c' argument looks like a single numeric RGB or RGBA sequence, which should be avoided as value-mapping will have precedence in case its length matches with 'x' & 'y'.  Please use a 2-D array with a single row if you really want to specify the same RGB or RGBA value for all points.\n",
      "'c' argument looks like a single numeric RGB or RGBA sequence, which should be avoided as value-mapping will have precedence in case its length matches with 'x' & 'y'.  Please use a 2-D array with a single row if you really want to specify the same RGB or RGBA value for all points.\n"
     ]
    },
    {
     "data": {
      "image/png": "[encoded data removed]",
      "text/plain": [
       "<Figure size 432x288 with 1 Axes>"
      ]
     },
     "metadata": {
      "needs_background": "light"
     },
     "output_type": "display_data"
    }
   ],
   "source": [
    "from matplotlib.colors import ListedColormap\n",
    "X_set, y_set = sc.inverse_transform(xtest), ytest\n",
    "X1, X2 = np.meshgrid(np.arange(start = X_set[:, 0].min() - 10, stop = X_set[:, 0].max() + 10, step = 0.25),\n",
    "                     np.arange(start = X_set[:, 1].min() - 1000, stop = X_set[:, 1].max() + 1000, step = 0.25))\n",
    "plt.contourf(X1, X2, clf.predict(sc.transform(np.array([X1.ravel(), X2.ravel()]).T)).reshape(X1.shape),\n",
    "             alpha = 0.75, cmap = ListedColormap(('red', 'green')))\n",
    "plt.xlim(X1.min(), X1.max())\n",
    "plt.ylim(X2.min(), X2.max())\n",
    "for i, j in enumerate(np.unique(y_set)):\n",
    "    plt.scatter(X_set[y_set == j, 0], X_set[y_set == j, 1],\n",
    "                c = ListedColormap(('red', 'green'))(i), label = j)\n",
    "plt.title('Logistic Regression (Test set)')\n",
    "plt.xlabel('Age')\n",
    "plt.ylabel('Estimated Salary')\n",
    "plt.legend()\n",
    "plt.show()"
   ]
  },
  {
   "cell_type": "code",
   "execution_count": null,
   "metadata": {
    "scrolled": false
   },
   "outputs": [],
   "source": []
  },
  {
   "cell_type": "code",
   "execution_count": null,
   "metadata": {},
   "outputs": [],
   "source": []
  },
  {
   "cell_type": "code",
   "execution_count": 48,
   "metadata": {},
   "outputs": [
    {
     "name": "stderr",
     "output_type": "stream",
     "text": [
      "'c' argument looks like a single numeric RGB or RGBA sequence, which should be avoided as value-mapping will have precedence in case its length matches with 'x' & 'y'.  Please use a 2-D array with a single row if you really want to specify the same RGB or RGBA value for all points.\n",
      "'c' argument looks like a single numeric RGB or RGBA sequence, which should be avoided as value-mapping will have precedence in case its length matches with 'x' & 'y'.  Please use a 2-D array with a single row if you really want to specify the same RGB or RGBA value for all points.\n"
     ]
    },
    {
     "data": {
      "image/png": "[encoded data removed]",
      "text/plain": [
       "<Figure size 432x288 with 1 Axes>"
      ]
     },
     "metadata": {
      "needs_background": "light"
     },
     "output_type": "display_data"
    }
   ],
   "source": [
    "for i, j in enumerate(np.unique(y_set)):\n",
    "    plt.scatter(X_set[y_set == j, 0], X_set[y_set == j, 1],\n",
    "                c = ListedColormap(('red', 'green'))(i), label = j)"
   ]
  },
  {
   "cell_type": "code",
   "execution_count": 52,
   "metadata": {},
   "outputs": [
    {
     "data": {
      "text/plain": [
       "array([30., 38., 35., 30., 35., 27., 31., 18., 47., 30., 28., 37., 39.,\n",
       "       20., 32., 37., 19., 35., 35., 41., 23., 28., 29., 37., 32., 21.,\n",
       "       37., 24., 18., 22., 34., 31., 27., 41., 27., 35., 27., 37., 26.,\n",
       "       34., 35., 34., 29., 26., 23., 32., 19., 19., 24., 27., 40., 42.,\n",
       "       35., 22., 27., 18., 42., 40.])"
      ]
     },
     "execution_count": 52,
     "metadata": {},
     "output_type": "execute_result"
    }
   ],
   "source": [
    "X_set[y_set == 0, 0]"
   ]
  },
  {
   "cell_type": "code",
   "execution_count": 53,
   "metadata": {},
   "outputs": [
    {
     "ename": "IndexError",
     "evalue": "boolean index did not match indexed array along dimension 0; dimension is 80 but corresponding boolean dimension is 4",
     "output_type": "error",
     "traceback": [
      "\u001b[1;31m---------------------------------------------------------------------------\u001b[0m",
      "\u001b[1;31mIndexError\u001b[0m                                Traceback (most recent call last)",
      "\u001b[1;32m<ipython-input-53-bd10b532d074>\u001b[0m in \u001b[0;36m<module>\u001b[1;34m\u001b[0m\n\u001b[1;32m----> 1\u001b[1;33m \u001b[0mX_set\u001b[0m\u001b[1;33m[\u001b[0m\u001b[1;33m[\u001b[0m\u001b[1;32mTrue\u001b[0m\u001b[1;33m,\u001b[0m \u001b[1;32mFalse\u001b[0m\u001b[1;33m,\u001b[0m \u001b[1;32mTrue\u001b[0m\u001b[1;33m,\u001b[0m \u001b[1;32mFalse\u001b[0m\u001b[1;33m]\u001b[0m\u001b[1;33m,\u001b[0m \u001b[1;36m0\u001b[0m\u001b[1;33m]\u001b[0m\u001b[1;33m\u001b[0m\u001b[1;33m\u001b[0m\u001b[0m\n\u001b[0m",
      "\u001b[1;31mIndexError\u001b[0m: boolean index did not match indexed array along dimension 0; dimension is 80 but corresponding boolean dimension is 4"
     ]
    }
   ],
   "source": [
    "X_set[[True, False, True, False, True], 0]"
   ]
  },
  {
   "cell_type": "code",
   "execution_count": null,
   "metadata": {},
   "outputs": [],
   "source": []
  }
 ],
 "metadata": {
  "kernelspec": {
   "display_name": "Python 3",
   "language": "python",
   "name": "python3"
  },
  "language_info": {
   "codemirror_mode": {
    "name": "ipython",
    "version": 3
   },
   "file_extension": ".py",
   "mimetype": "text/x-python",
   "name": "python",
   "nbconvert_exporter": "python",
   "pygments_lexer": "ipython3",
   "version": "3.7.6"
  }
 },
 "nbformat": 4,
 "nbformat_minor": 4
}
